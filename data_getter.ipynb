{
 "cells": [
  {
   "cell_type": "markdown",
   "metadata": {},
   "source": [
    "# potlical candidates"
   ]
  },
  {
   "cell_type": "markdown",
   "metadata": {
    "collapsed": true,
    "pycharm": {
     "name": "#%% md\n"
    }
   },
   "source": [
    "This notebook gets data from the OpenSecretes API "
   ]
  },
  {
   "cell_type": "code",
   "execution_count": 2,
   "metadata": {},
   "outputs": [
    {
     "name": "stdout",
     "output_type": "stream",
     "text": [
      "Collecting opensecrets-crpapi\n",
      "  Downloading opensecrets_crpapi-0.2.2-py2.py3-none-any.whl (5.5 kB)\n",
      "Collecting httplib2\n",
      "  Downloading httplib2-0.18.1-py3-none-any.whl (95 kB)\n",
      "\u001B[K     |████████████████████████████████| 95 kB 1.2 MB/s eta 0:00:01\n",
      "\u001B[?25hInstalling collected packages: httplib2, opensecrets-crpapi\n",
      "Successfully installed httplib2-0.18.1 opensecrets-crpapi-0.2.2\n"
     ]
    }
   ],
   "source": [
    "! pip install opensecrets-crpapi"
   ]
  },
  {
   "cell_type": "code",
   "execution_count": 1,
   "metadata": {},
   "outputs": [],
   "source": [
    "from organisation_data_accessor import data_accessor\n",
    "\n",
    "org_names = data_accessor.get_org_names()\n"
   ]
  },
  {
   "cell_type": "code",
   "execution_count": null,
   "metadata": {},
   "outputs": [],
   "source": [
    "data_accessor.get_data_for_org_ids(api_key= AnyStr, org_ids= List)\n",
    "\n"
   ]
  },
  {
   "cell_type": "code",
   "execution_count": null,
   "outputs": [],
   "source": [
    "\n"
   ],
   "metadata": {
    "collapsed": false,
    "pycharm": {
     "name": "#%%\n"
    }
   }
  },
  {
   "cell_type": "code",
   "execution_count": null,
   "metadata": {},
   "outputs": [],
   "source": [
    "\n"
   ]
  }
 ],
 "metadata": {
  "kernelspec": {
   "display_name": "Python 3",
   "language": "python",
   "name": "python3"
  },
  "language_info": {
   "codemirror_mode": {
    "name": "ipython",
    "version": 3
   },
   "file_extension": ".py",
   "mimetype": "text/x-python",
   "name": "python",
   "nbconvert_exporter": "python",
   "pygments_lexer": "ipython3",
   "version": "3.8.5"
  }
 },
 "nbformat": 4,
 "nbformat_minor": 1
}